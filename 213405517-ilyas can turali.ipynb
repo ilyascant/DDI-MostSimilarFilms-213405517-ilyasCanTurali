{
 "cells": [
  {
   "cell_type": "code",
   "execution_count": 247,
   "metadata": {},
   "outputs": [],
   "source": [
    "import pandas as pd"
   ]
  },
  {
   "cell_type": "code",
   "execution_count": 248,
   "metadata": {},
   "outputs": [],
   "source": [
    "df = pd.read_csv(\"filmler_clean.csv\")"
   ]
  },
  {
   "cell_type": "code",
   "execution_count": 249,
   "metadata": {},
   "outputs": [
    {
     "data": {
      "text/html": [
       "<div>\n",
       "<style scoped>\n",
       "    .dataframe tbody tr th:only-of-type {\n",
       "        vertical-align: middle;\n",
       "    }\n",
       "\n",
       "    .dataframe tbody tr th {\n",
       "        vertical-align: top;\n",
       "    }\n",
       "\n",
       "    .dataframe thead th {\n",
       "        text-align: right;\n",
       "    }\n",
       "</style>\n",
       "<table border=\"1\" class=\"dataframe\">\n",
       "  <thead>\n",
       "    <tr style=\"text-align: right;\">\n",
       "      <th></th>\n",
       "      <th>film adi</th>\n",
       "      <th>ozet ve detaylar</th>\n",
       "      <th>tur</th>\n",
       "      <th>oyuncular</th>\n",
       "      <th>yonetmen</th>\n",
       "      <th>vizyon tarihi</th>\n",
       "      <th>sure</th>\n",
       "      <th>clean</th>\n",
       "    </tr>\n",
       "  </thead>\n",
       "  <tbody>\n",
       "    <tr>\n",
       "      <th>0</th>\n",
       "      <td>Bergen</td>\n",
       "      <td>Arabeskin unutulmayan kadın seslerinden biri o...</td>\n",
       "      <td>['Dram', 'Biyografik']</td>\n",
       "      <td>['Farah Zeynep Abdullah', 'Erdal Beşikçioğlu',...</td>\n",
       "      <td>['Mehmet Binay', 'Caner Alper']</td>\n",
       "      <td>4 Mart 2022</td>\n",
       "      <td>2s 26dk</td>\n",
       "      <td>arabesk unutmak kadın ses o Bergen inmek hayat...</td>\n",
       "    </tr>\n",
       "    <tr>\n",
       "      <th>1</th>\n",
       "      <td>Kirpi Sonic 2</td>\n",
       "      <td>Çocuk filmi \\r\\n\\r\\n\\r\\nKirpi Sonic filminin d...</td>\n",
       "      <td>['Animasyon', 'Aile', 'Macera']</td>\n",
       "      <td>['Jim Carrey', 'James Marsden', None]</td>\n",
       "      <td>['Jeff Fowler']</td>\n",
       "      <td>8 Nisan 2022</td>\n",
       "      <td>2s 2dk</td>\n",
       "      <td>çocuk film kirpi Sonic film deva halka o yapım...</td>\n",
       "    </tr>\n",
       "    <tr>\n",
       "      <th>2</th>\n",
       "      <td>Fantastik Canavarlar: Dumbledore'un Sırları</td>\n",
       "      <td>Karanlık büyücü Gellert Grindelwald, büyücülük...</td>\n",
       "      <td>['Fantastik', 'Macera']</td>\n",
       "      <td>['Eddie Redmayne', 'Jude Law', 'Mads Mikkelsen']</td>\n",
       "      <td>['David Yates']</td>\n",
       "      <td>15 Nisan 2022</td>\n",
       "      <td>2s 22dk</td>\n",
       "      <td>Karanlık büyü Gellert Grindelwald büyü Dünya k...</td>\n",
       "    </tr>\n",
       "    <tr>\n",
       "      <th>3</th>\n",
       "      <td>Aykut Enişte 2</td>\n",
       "      <td>Aykut Enişte 2, sevdiği kadınla evlilik arifes...</td>\n",
       "      <td>['Komedi']</td>\n",
       "      <td>['Cem Gelinoğlu', 'Melis Babadağ', 'Hakan Yılm...</td>\n",
       "      <td>['Onur Bilgetay']</td>\n",
       "      <td>3 Aralık 2021</td>\n",
       "      <td>1s 55dk</td>\n",
       "      <td>Aykut enişte 2 sevmek kadın ev arife kendi tür...</td>\n",
       "    </tr>\n",
       "    <tr>\n",
       "      <th>4</th>\n",
       "      <td>Morbius</td>\n",
       "      <td>Morbius, hastalığına deva bulmaya çalışırken b...</td>\n",
       "      <td>['Aksiyon', 'Fantastik', 'Macera']</td>\n",
       "      <td>['Jared Leto', 'Matt Smith (XI)', 'Adria Arjona']</td>\n",
       "      <td>['Daniel Espinosa']</td>\n",
       "      <td>1 Nisan 2022</td>\n",
       "      <td>1s 45dk</td>\n",
       "      <td>Morbius hastalık deva bulmak Çalışır bambaşka ...</td>\n",
       "    </tr>\n",
       "  </tbody>\n",
       "</table>\n",
       "</div>"
      ],
      "text/plain": [
       "                                      film adi  \\\n",
       "0                                       Bergen   \n",
       "1                                Kirpi Sonic 2   \n",
       "2  Fantastik Canavarlar: Dumbledore'un Sırları   \n",
       "3                               Aykut Enişte 2   \n",
       "4                                      Morbius   \n",
       "\n",
       "                                    ozet ve detaylar  \\\n",
       "0  Arabeskin unutulmayan kadın seslerinden biri o...   \n",
       "1  Çocuk filmi \\r\\n\\r\\n\\r\\nKirpi Sonic filminin d...   \n",
       "2  Karanlık büyücü Gellert Grindelwald, büyücülük...   \n",
       "3  Aykut Enişte 2, sevdiği kadınla evlilik arifes...   \n",
       "4  Morbius, hastalığına deva bulmaya çalışırken b...   \n",
       "\n",
       "                                  tur  \\\n",
       "0              ['Dram', 'Biyografik']   \n",
       "1     ['Animasyon', 'Aile', 'Macera']   \n",
       "2             ['Fantastik', 'Macera']   \n",
       "3                          ['Komedi']   \n",
       "4  ['Aksiyon', 'Fantastik', 'Macera']   \n",
       "\n",
       "                                           oyuncular  \\\n",
       "0  ['Farah Zeynep Abdullah', 'Erdal Beşikçioğlu',...   \n",
       "1              ['Jim Carrey', 'James Marsden', None]   \n",
       "2   ['Eddie Redmayne', 'Jude Law', 'Mads Mikkelsen']   \n",
       "3  ['Cem Gelinoğlu', 'Melis Babadağ', 'Hakan Yılm...   \n",
       "4  ['Jared Leto', 'Matt Smith (XI)', 'Adria Arjona']   \n",
       "\n",
       "                          yonetmen  vizyon tarihi     sure  \\\n",
       "0  ['Mehmet Binay', 'Caner Alper']    4 Mart 2022  2s 26dk   \n",
       "1                  ['Jeff Fowler']   8 Nisan 2022   2s 2dk   \n",
       "2                  ['David Yates']  15 Nisan 2022  2s 22dk   \n",
       "3                ['Onur Bilgetay']  3 Aralık 2021  1s 55dk   \n",
       "4              ['Daniel Espinosa']   1 Nisan 2022  1s 45dk   \n",
       "\n",
       "                                               clean  \n",
       "0  arabesk unutmak kadın ses o Bergen inmek hayat...  \n",
       "1  çocuk film kirpi Sonic film deva halka o yapım...  \n",
       "2  Karanlık büyü Gellert Grindelwald büyü Dünya k...  \n",
       "3  Aykut enişte 2 sevmek kadın ev arife kendi tür...  \n",
       "4  Morbius hastalık deva bulmak Çalışır bambaşka ...  "
      ]
     },
     "execution_count": 249,
     "metadata": {},
     "output_type": "execute_result"
    }
   ],
   "source": [
    "df.head()"
   ]
  },
  {
   "cell_type": "code",
   "execution_count": 250,
   "metadata": {},
   "outputs": [],
   "source": [
    "clean = df[\"clean\"]"
   ]
  },
  {
   "cell_type": "code",
   "execution_count": 251,
   "metadata": {},
   "outputs": [
    {
     "data": {
      "text/plain": [
       "5261"
      ]
     },
     "execution_count": 251,
     "metadata": {},
     "output_type": "execute_result"
    }
   ],
   "source": [
    "len(clean)"
   ]
  },
  {
   "cell_type": "code",
   "execution_count": 252,
   "metadata": {},
   "outputs": [],
   "source": [
    "word2idx = {}\n",
    "idx2word = {}"
   ]
  },
  {
   "cell_type": "code",
   "execution_count": 253,
   "metadata": {},
   "outputs": [],
   "source": [
    "i = 0\n",
    "for cell in clean:\n",
    "    words = cell.split()\n",
    "    for word in words:\n",
    "        if word in word2idx:\n",
    "            continue\n",
    "        word2idx[word] = i\n",
    "        idx2word[i] = word\n",
    "        i += 1"
   ]
  },
  {
   "cell_type": "code",
   "execution_count": 254,
   "metadata": {},
   "outputs": [
    {
     "name": "stdout",
     "output_type": "stream",
     "text": [
      "27754\n"
     ]
    }
   ],
   "source": [
    "print(len(word2idx))\n"
   ]
  },
  {
   "cell_type": "code",
   "execution_count": 255,
   "metadata": {},
   "outputs": [],
   "source": [
    "import numpy as np"
   ]
  },
  {
   "cell_type": "code",
   "execution_count": 256,
   "metadata": {},
   "outputs": [],
   "source": [
    "film_sayisi = len(clean)\n",
    "vocab_size = len(word2idx)\n"
   ]
  },
  {
   "cell_type": "code",
   "execution_count": 257,
   "metadata": {},
   "outputs": [],
   "source": [
    "filmler = np.zeros((film_sayisi, vocab_size))\n"
   ]
  },
  {
   "cell_type": "code",
   "execution_count": 258,
   "metadata": {},
   "outputs": [
    {
     "data": {
      "text/plain": [
       "(5261, 27754)"
      ]
     },
     "execution_count": 258,
     "metadata": {},
     "output_type": "execute_result"
    }
   ],
   "source": [
    "filmler.shape"
   ]
  },
  {
   "cell_type": "code",
   "execution_count": 259,
   "metadata": {},
   "outputs": [],
   "source": [
    "turler_list =df[\"tur\"]\n",
    "oyuncular_list = df[\"oyuncular\"]\n",
    "yonetmen_list = df[\"yonetmen\"]\n",
    "\n",
    "# tuler,yonetmenler ve oyunculari da islemlere katmak icin once tanitiyoruz."
   ]
  },
  {
   "cell_type": "code",
   "execution_count": 260,
   "metadata": {},
   "outputs": [],
   "source": [
    "turler2idx = {}\n",
    "idx2tur = {}\n",
    "clean_turler = []\n",
    "k = 0\n",
    "\n",
    "for i,turler in enumerate(turler_list):\n",
    "    clean_turler.append(turler.strip(\"[]\").replace(\"'\",\"\").split(\", \"))\n",
    "    # liste halinde gozukse de string'ti ve [] isareti vardi. kaldirildi.\n",
    "    # ' isareti kaldirildi string'te bulunuyordu.\n",
    "    # virgul ve sonrasinda gelen bosluk silindi ve liste haline donusturuldu.\n",
    "\n",
    "for i,turler in enumerate(clean_turler):\n",
    "    for tur in turler:\n",
    "        if tur in turler2idx:\n",
    "            continue\n",
    "        turler2idx[tur] = k\n",
    "        idx2tur[k] = tur \n",
    "        k = k+1"
   ]
  },
  {
   "cell_type": "code",
   "execution_count": 261,
   "metadata": {},
   "outputs": [],
   "source": [
    "oyuncular2idx = {}\n",
    "idx2oyuncu = {}\n",
    "clean_oyuncular = []\n",
    "k = 0\n",
    "\n",
    "for i,oyuncular in enumerate(oyuncular_list):\n",
    "    clean_oyuncu = oyuncular.strip(\"[]\").replace(\"'\",\"\").split(\", \")\n",
    "    clean_oyuncular.append(clean_oyuncu)\n",
    "    # liste halinde gozukse de string'ti ve [] isareti vardi. kaldirildi.\n",
    "    # ' isareti kaldirildi string'te bulunuyordu.\n",
    "    # virgul ve sonrasinda gelen bosluga bagli olarak liste haline donusturuldu.\n",
    "\n",
    "for i,oyuncular in enumerate(clean_oyuncular):\n",
    "    for oyuncu in oyuncular:\n",
    "        if oyuncu in oyuncular2idx:\n",
    "            # oyuncularin birden fazla islenmesini engellemek icin.\n",
    "            continue\n",
    "        oyuncular2idx[oyuncu] = k;\n",
    "        idx2oyuncu[k] = oyuncu\n",
    "        k += 1"
   ]
  },
  {
   "cell_type": "code",
   "execution_count": 262,
   "metadata": {},
   "outputs": [],
   "source": [
    "yonetmenler2idx = {}\n",
    "idx2yonetmen = {}\n",
    "clean_yonetmenler = []\n",
    "k = 0\n",
    "\n",
    "for i,yonetmenler in enumerate(yonetmen_list):\n",
    "    clean_yonetmen = yonetmenler.strip(\"[]\").replace(\"'\",\"\").split(\", \")\n",
    "    clean_yonetmenler.append(clean_yonetmen) \n",
    "    # liste halinde gozukse de string'ti ve [] isareti vardi. kaldirildi.\n",
    "    # ' isareti kaldirildi string'te bulunuyordu.\n",
    "    # virgul ve sonrasinda gelen bosluk silindi ve liste haline donusturuldu.\n",
    "\n",
    "for i,yonetmenler in enumerate(clean_yonetmenler):\n",
    "    for yonetmen in yonetmenler:\n",
    "        if yonetmen in yonetmenler2idx:\n",
    "            # yonetmenlerin birden fazla islenmesini engellemek icin.\n",
    "            continue\n",
    "        yonetmenler2idx[yonetmen] = k;\n",
    "        idx2yonetmen[k] = yonetmen       \n",
    "        k += 1"
   ]
  },
  {
   "cell_type": "code",
   "execution_count": 263,
   "metadata": {},
   "outputs": [],
   "source": [
    "tur_size = len(turler2idx)\n",
    "oyuncu_size = len(oyuncular2idx)\n",
    "yonetmen_size = len(yonetmenler2idx)"
   ]
  },
  {
   "cell_type": "code",
   "execution_count": 264,
   "metadata": {},
   "outputs": [],
   "source": [
    "turler_matrix = np.zeros((film_sayisi, tur_size))\n",
    "oyuncular_matrix = np.zeros((film_sayisi, oyuncu_size))\n",
    "yonetmenler_matrix = np.zeros((film_sayisi, yonetmen_size))"
   ]
  },
  {
   "cell_type": "code",
   "execution_count": 266,
   "metadata": {},
   "outputs": [
    {
     "name": "stdout",
     "output_type": "stream",
     "text": [
      "31\n",
      "6231\n",
      "2539\n"
     ]
    }
   ],
   "source": [
    "print(len(turler2idx))\n",
    "print(len(oyuncular2idx))\n",
    "print(len(yonetmenler2idx))"
   ]
  },
  {
   "cell_type": "code",
   "execution_count": 267,
   "metadata": {},
   "outputs": [],
   "source": [
    "for i, cell in enumerate(clean):\n",
    "    words = cell.split()\n",
    "    for word in words:\n",
    "        wordIndex = word2idx[word]\n",
    "        filmler[i][wordIndex] += 1\n"
   ]
  },
  {
   "cell_type": "code",
   "execution_count": 268,
   "metadata": {},
   "outputs": [],
   "source": [
    "for i, words in enumerate(clean_turler):\n",
    "    for word in words:\n",
    "        wordIndex = turler2idx[word]\n",
    "        turler_matrix[i][wordIndex] += 1"
   ]
  },
  {
   "cell_type": "code",
   "execution_count": 269,
   "metadata": {},
   "outputs": [],
   "source": [
    "for i, words in enumerate(clean_oyuncular):\n",
    "    for word in words:\n",
    "        wordIndex = oyuncular2idx[word]\n",
    "        if not word == \"None\": oyuncular_matrix[i][wordIndex] +=1\n",
    "        # 'NONE' kelimesini iceriyor ise degeri arttirma."
   ]
  },
  {
   "cell_type": "code",
   "execution_count": 270,
   "metadata": {},
   "outputs": [],
   "source": [
    "for i, words in enumerate(clean_yonetmenler):\n",
    "    for word in words:\n",
    "        wordIndex = yonetmenler2idx[word]\n",
    "        yonetmenler_matrix[i][wordIndex] += 1\n",
    "        "
   ]
  },
  {
   "cell_type": "code",
   "execution_count": 271,
   "metadata": {},
   "outputs": [
    {
     "data": {
      "text/plain": [
       "array([[1., 1., 0., ..., 0., 0., 0.],\n",
       "       [0., 0., 1., ..., 0., 0., 0.],\n",
       "       [0., 0., 0., ..., 0., 0., 0.],\n",
       "       ...,\n",
       "       [0., 0., 0., ..., 0., 0., 0.],\n",
       "       [0., 0., 0., ..., 0., 0., 0.],\n",
       "       [0., 0., 0., ..., 0., 0., 0.]])"
      ]
     },
     "execution_count": 271,
     "metadata": {},
     "output_type": "execute_result"
    }
   ],
   "source": [
    "yonetmenler_matrix"
   ]
  },
  {
   "cell_type": "code",
   "execution_count": 272,
   "metadata": {},
   "outputs": [
    {
     "data": {
      "text/plain": [
       "array([0., 0., 0., 0., 2., 0., 1., 2., 0., 0.])"
      ]
     },
     "execution_count": 272,
     "metadata": {},
     "output_type": "execute_result"
    }
   ],
   "source": [
    "filmler[7][:10]"
   ]
  },
  {
   "cell_type": "code",
   "execution_count": 273,
   "metadata": {},
   "outputs": [
    {
     "data": {
      "text/plain": [
       "array([1., 1., 0., 0., 0., 0., 0., 0., 0., 0., 0., 0., 0., 0., 0., 0., 0.,\n",
       "       0., 0., 0., 0., 0., 0., 0., 0., 0., 0., 0., 0., 0., 0.])"
      ]
     },
     "execution_count": 273,
     "metadata": {},
     "output_type": "execute_result"
    }
   ],
   "source": [
    "turler_matrix[0]"
   ]
  },
  {
   "cell_type": "code",
   "execution_count": 274,
   "metadata": {},
   "outputs": [],
   "source": [
    "doc_frequencies = {}\n",
    "# 1 - 5 dk sürebilir \n",
    "for word in word2idx:\n",
    "    doc_count = 0\n",
    "    for film in clean:\n",
    "        if word in film:\n",
    "            doc_count += 1\n",
    "    \n",
    "    doc_frequencies[word] = doc_count\n"
   ]
  },
  {
   "cell_type": "code",
   "execution_count": 275,
   "metadata": {},
   "outputs": [],
   "source": [
    "tur_frequencies = {}\n",
    "\n",
    "for word in turler2idx:\n",
    "    tur_count = 0\n",
    "    for turler in clean_turler:\n",
    "        if word in turler:\n",
    "            tur_count += 1\n",
    "\n",
    "    tur_frequencies[word] = tur_count"
   ]
  },
  {
   "cell_type": "code",
   "execution_count": 276,
   "metadata": {},
   "outputs": [],
   "source": [
    "oyuncu_frequencies = {}\n",
    "\n",
    "for word in oyuncular2idx:\n",
    "    oyuncu_count = 0\n",
    "    if word == \"None\":oyuncu_frequencies[word] = oyuncu_count\n",
    "    # Verilerimizde oyunculardan bazilari 'NONE' iceriyordu bu yuzden 'NONE' \n",
    "    # kelimesini gordugu yere 0 yazdirdim.'NONE' gormezden gelindi.\n",
    "    for oyuncular in clean_oyuncular:\n",
    "        if word in oyuncular:\n",
    "            oyuncu_count += 1\n",
    "    oyuncu_frequencies[word] = oyuncu_count"
   ]
  },
  {
   "cell_type": "code",
   "execution_count": 277,
   "metadata": {},
   "outputs": [],
   "source": [
    "yonetmen_frequencies = {}\n",
    "\n",
    "for word in yonetmenler2idx:\n",
    "    yonetmen_count = 0\n",
    "    for yonetmenler in clean_yonetmenler:\n",
    "        if word in yonetmenler:\n",
    "            yonetmen_count += 1\n",
    "    yonetmen_frequencies[word] = yonetmen_count"
   ]
  },
  {
   "cell_type": "code",
   "execution_count": 278,
   "metadata": {},
   "outputs": [],
   "source": [
    "sorted_frequencies = sorted(doc_frequencies, key=doc_frequencies.get, reverse=True)\n",
    "sorted_tur_frequencies = sorted(tur_frequencies, key=tur_frequencies.get, reverse=True)\n",
    "sorted_oyuncu_frequencies = sorted(oyuncu_frequencies, key=oyuncu_frequencies.get, reverse=True)\n",
    "sorted_yonetmen_frequencies = sorted(yonetmen_frequencies, key=yonetmen_frequencies.get, reverse=True)"
   ]
  },
  {
   "cell_type": "code",
   "execution_count": 282,
   "metadata": {},
   "outputs": [
    {
     "name": "stdout",
     "output_type": "stream",
     "text": [
      "5261 filmden 0. film işleniyor...\n",
      "5261 filmden 500. film işleniyor...\n",
      "5261 filmden 1000. film işleniyor...\n",
      "5261 filmden 1500. film işleniyor...\n",
      "5261 filmden 2000. film işleniyor...\n",
      "5261 filmden 2500. film işleniyor...\n",
      "5261 filmden 3000. film işleniyor...\n",
      "5261 filmden 3500. film işleniyor...\n",
      "5261 filmden 4000. film işleniyor...\n",
      "5261 filmden 4500. film işleniyor...\n",
      "5261 filmden 5000. film işleniyor...\n"
     ]
    }
   ],
   "source": [
    "# 1 - 5 dk sürebilir\n",
    "filmler_tf_idf = np.zeros((film_sayisi, vocab_size))\n",
    "film_sayisi = len(clean)\n",
    "\n",
    "for i, film in enumerate(filmler):\n",
    "    if i % 500 == 0:\n",
    "        print(f\"{film_sayisi} filmden {i}. film işleniyor...\")\n",
    "    for j, tf in enumerate(film):\n",
    "        idf = 0\n",
    "        if tf > 0:\n",
    "            idf = np.log(film_sayisi / (doc_frequencies[idx2word[j]] + 1)) + 1\n",
    "\n",
    "        tf_idf_score = tf * idf \n",
    "        filmler_tf_idf[i][j] = tf_idf_score"
   ]
  },
  {
   "cell_type": "code",
   "execution_count": 283,
   "metadata": {},
   "outputs": [
    {
     "name": "stdout",
     "output_type": "stream",
     "text": [
      "5261 turden 0. tur işleniyor...\n",
      "5261 turden 500. tur işleniyor...\n",
      "5261 turden 1000. tur işleniyor...\n",
      "5261 turden 1500. tur işleniyor...\n",
      "5261 turden 2000. tur işleniyor...\n",
      "5261 turden 2500. tur işleniyor...\n",
      "5261 turden 3000. tur işleniyor...\n",
      "5261 turden 3500. tur işleniyor...\n",
      "5261 turden 4000. tur işleniyor...\n",
      "5261 turden 4500. tur işleniyor...\n",
      "5261 turden 5000. tur işleniyor...\n"
     ]
    }
   ],
   "source": [
    "turler_tf_idf = np.zeros((film_sayisi, tur_size))\n",
    "\n",
    "for i, tur in enumerate(turler_matrix):\n",
    "    if i % 500 == 0:\n",
    "        print(f\"{len(turler_matrix)} turden {i}. tur işleniyor...\")\n",
    "    for j, tf in enumerate(tur):\n",
    "        idf = 0;\n",
    "        if tf > 0:\n",
    "            idf =  np.log(film_sayisi / (tur_frequencies[idx2tur[j]] + 1)) + 1\n",
    "        \n",
    "        tf_idf_score = (tf * idf)\n",
    "        turler_tf_idf[i][j] = tf_idf_score"
   ]
  },
  {
   "cell_type": "code",
   "execution_count": 284,
   "metadata": {},
   "outputs": [
    {
     "name": "stdout",
     "output_type": "stream",
     "text": [
      "5261 turden 0. tur işleniyor...\n",
      "5261 turden 500. tur işleniyor...\n",
      "5261 turden 1000. tur işleniyor...\n",
      "5261 turden 1500. tur işleniyor...\n",
      "5261 turden 2000. tur işleniyor...\n",
      "5261 turden 2500. tur işleniyor...\n",
      "5261 turden 3000. tur işleniyor...\n",
      "5261 turden 3500. tur işleniyor...\n",
      "5261 turden 4000. tur işleniyor...\n",
      "5261 turden 4500. tur işleniyor...\n",
      "5261 turden 5000. tur işleniyor...\n"
     ]
    }
   ],
   "source": [
    "oyuncular_tf_idf = np.zeros((film_sayisi, oyuncu_size))\n",
    "\n",
    "for i, oyuncu in enumerate(oyuncular_matrix):\n",
    "    if i % 500 == 0:\n",
    "        print(f\"{len(oyuncular_matrix)} turden {i}. tur işleniyor...\")\n",
    "    for j, tf in enumerate(oyuncu):\n",
    "        idf = 0;\n",
    "        if tf > 0:\n",
    "            idf =  np.log(film_sayisi / (oyuncu_frequencies[idx2oyuncu[j]] + 1)) + 1\n",
    "        \n",
    "        tf_idf_score = (tf * idf)\n",
    "        oyuncular_tf_idf[i][j] = tf_idf_score"
   ]
  },
  {
   "cell_type": "code",
   "execution_count": 285,
   "metadata": {},
   "outputs": [
    {
     "name": "stdout",
     "output_type": "stream",
     "text": [
      "5261 turden 0. tur işleniyor...\n",
      "5261 turden 500. tur işleniyor...\n",
      "5261 turden 1000. tur işleniyor...\n",
      "5261 turden 1500. tur işleniyor...\n",
      "5261 turden 2000. tur işleniyor...\n",
      "5261 turden 2500. tur işleniyor...\n",
      "5261 turden 3000. tur işleniyor...\n",
      "5261 turden 3500. tur işleniyor...\n",
      "5261 turden 4000. tur işleniyor...\n",
      "5261 turden 4500. tur işleniyor...\n",
      "5261 turden 5000. tur işleniyor...\n"
     ]
    }
   ],
   "source": [
    "yonetmenler_tf_idf = np.zeros((film_sayisi, yonetmen_size))\n",
    "\n",
    "for i, yonetmen in enumerate(yonetmenler_matrix):\n",
    "    if i % 500 == 0:\n",
    "        print(f\"{len(yonetmenler_matrix)} turden {i}. tur işleniyor...\")\n",
    "    for j, tf in enumerate(yonetmen):\n",
    "        idf = 0;\n",
    "        if tf > 0:\n",
    "            idf =  np.log(film_sayisi / (yonetmen_frequencies[idx2yonetmen[j]] + 1)) + 1\n",
    "        \n",
    "        tf_idf_score = (tf * idf)\n",
    "        yonetmenler_tf_idf[i][j] = tf_idf_score"
   ]
  },
  {
   "cell_type": "code",
   "execution_count": 286,
   "metadata": {},
   "outputs": [
    {
     "name": "stdout",
     "output_type": "stream",
     "text": [
      "[0.         0.         0.         0.         2.00038019 0.\n",
      " 7.50567832 0.         0.         2.87073982]\n",
      "[0. 0. 0. 0. 2. 0. 4. 0. 0. 2.]\n"
     ]
    }
   ],
   "source": [
    "print(filmler_tf_idf[1][:10])\n",
    "print(filmler[1][:10])"
   ]
  },
  {
   "cell_type": "code",
   "execution_count": 287,
   "metadata": {},
   "outputs": [
    {
     "name": "stdout",
     "output_type": "stream",
     "text": [
      "[0.         0.         3.75993391 3.9226295  3.11287784 0.\n",
      " 0.         0.         0.         0.        ]\n",
      "[0. 0. 1. 1. 1. 0. 0. 0. 0. 0.]\n",
      "[0. 0. 0. 1. 1. 0. 0. 0. 0. 0.]\n"
     ]
    }
   ],
   "source": [
    "print(turler_tf_idf[1][:10])\n",
    "print(turler_matrix[1][:10])\n",
    "print(oyuncular_matrix[1][:10])"
   ]
  },
  {
   "cell_type": "code",
   "execution_count": 288,
   "metadata": {},
   "outputs": [],
   "source": [
    "def cos_sim(v1, v2):\n",
    "    return np.dot(v1, v2) / ((np.linalg.norm(v1) * np.linalg.norm(v2)+1))"
   ]
  },
  {
   "cell_type": "code",
   "execution_count": 289,
   "metadata": {},
   "outputs": [],
   "source": [
    "def film_2_str(row_index):\n",
    "    film = df.iloc[row_index]\n",
    "    adi = film['film adi']\n",
    "    turu = film['tur']\n",
    "    oyunculari = film['oyuncular']\n",
    "    yonetmenleri = film['yonetmen']\n",
    "    ozet = film['ozet ve detaylar']\n",
    "    if len(ozet) > 150:\n",
    "        ozet = ozet[:150] + \"...\"\n",
    "\n",
    "    return f\"Film adı: {adi} \\nTürü: {turu} \\nOyuncular: {oyunculari}\\nYonetmenleri: {yonetmenleri} \\nÖzeti: {ozet}\""
   ]
  },
  {
   "cell_type": "code",
   "execution_count": 290,
   "metadata": {},
   "outputs": [
    {
     "name": "stdout",
     "output_type": "stream",
     "text": [
      "Film adı: Bergen \n",
      "Türü: ['Dram', 'Biyografik'] \n",
      "Oyuncular: ['Farah Zeynep Abdullah', 'Erdal Beşikçioğlu', 'Tilbe Saran']\n",
      "Yonetmenleri: ['Mehmet Binay', 'Caner Alper'] \n",
      "Özeti: Arabeskin unutulmayan kadın seslerinden biri olan Bergen'in hayatını anlatan filmde, Bergen olarak bilinen Belgin'in Ankara'dan Adana'ya, oradan da ya...\n"
     ]
    }
   ],
   "source": [
    "print(film_2_str(0))"
   ]
  },
  {
   "cell_type": "code",
   "execution_count": 291,
   "metadata": {},
   "outputs": [],
   "source": [
    "def most_similar_films(film_adi, benzer_film_sayisi):\n",
    "    film_indexi = df[df[\"film adi\"] == film_adi].index[0]\n",
    "    print(\"Aranan Film:\")\n",
    "    print(film_2_str(film_indexi))\n",
    "    print()\n",
    "    print(\"* \" * 30)\n",
    "    print()\n",
    "\n",
    "    benzerlikler = []\n",
    "    sorgu_film = filmler_tf_idf[film_indexi]\n",
    "    sorgu_tur = turler_tf_idf[film_indexi]\n",
    "    sorgu_yonetmen = yonetmenler_tf_idf[film_indexi]\n",
    "    sorgu_oyuncu = oyuncular_tf_idf[film_indexi]\n",
    "\n",
    "    for i in range(0, film_sayisi):\n",
    "        vec1 = filmler_tf_idf[i]\n",
    "        vec2 = turler_tf_idf[i]\n",
    "        vec3 = yonetmenler_tf_idf[i]\n",
    "        vec4 = oyuncular_tf_idf[i]\n",
    "\n",
    "        benzerlik_part1 = 4 * cos_sim(sorgu_film, vec1)\n",
    "        benzerlik_part2 = 6 * cos_sim(sorgu_tur, vec2)\n",
    "        benzerlik_part3 = 2 * cos_sim(sorgu_yonetmen, vec3)\n",
    "        benzerlik_part4 = 1 * cos_sim(sorgu_oyuncu, vec4)\n",
    "        # cos0'dan cikan sonuclari agirliklarina gore carptim boylece \n",
    "        # daha benzer turler agirliklarina gore bulunmus oldu.\n",
    "\n",
    "        benzerlik = benzerlik_part1 + benzerlik_part2 + benzerlik_part3 + benzerlik_part4\n",
    "        benzerlikler.append(benzerlik)\n",
    "\n",
    "    en_benzer_film_indexleri = (- np.array(benzerlikler)).argsort()[:benzer_film_sayisi + 1]\n",
    "    print(\"Benzer Filmler:\\n\")\n",
    "    for i, film_idx in enumerate(en_benzer_film_indexleri[1:]):\n",
    "        print(str(i+1) + \") \" + film_2_str(film_idx))\n",
    "        print()\n",
    "        print(\"- \" * 20)\n",
    "        print()\n",
    "    "
   ]
  },
  {
   "cell_type": "code",
   "execution_count": 292,
   "metadata": {},
   "outputs": [
    {
     "name": "stdout",
     "output_type": "stream",
     "text": [
      "Aranan Film:\n",
      "Film adı: Kirpi Sonic 2 \n",
      "Türü: ['Animasyon', 'Aile', 'Macera'] \n",
      "Oyuncular: ['Jim Carrey', 'James Marsden', None]\n",
      "Yonetmenleri: ['Jeff Fowler'] \n",
      "Özeti: Çocuk filmi \n",
      "\n",
      "\n",
      "Kirpi Sonic filminin devam halkası olan yapımda, insan biçiminde bir kirpi olan Sonic'in atıldığı maceralar konu ediliyor. Green Hil...\n",
      "\n",
      "* * * * * * * * * * * * * * * * * * * * * * * * * * * * * * \n",
      "\n",
      "Benzer Filmler:\n",
      "\n",
      "1) Film adı: Kirpi Sonic \n",
      "Türü: ['Macera', 'Aile'] \n",
      "Oyuncular: ['Jim Carrey', None, 'James Marsden']\n",
      "Yonetmenleri: ['Jeff Fowler'] \n",
      "Özeti: 6 yaş ve üzeri çocuklar için uygun film\n",
      "\n",
      "\n",
      "\n",
      "Kirpi Sonic, peşine düşen yetkililerden kurtulup, şeytani doktorun elinde bulunan yüzükleri geri almaya...\n",
      "\n",
      "- - - - - - - - - - - - - - - - - - - - \n",
      "\n",
      "2) Film adı: İnanılmaz Aile 2 \n",
      "Türü: ['Animasyon', 'Aile', 'Macera'] \n",
      "Oyuncular: [None, None, None]\n",
      "Yonetmenleri: ['Brad Bird'] \n",
      "Özeti: Çocuk filmi \n",
      "\n",
      "\n",
      "İnanılmaz Aile 2, süper güçlere sahip olan bir ailenin atıldığı maceraları konu ediyor. Süper güçlere sahip aile suçla savaşmaya dev...\n",
      "\n",
      "- - - - - - - - - - - - - - - - - - - - \n",
      "\n",
      "3) Film adı: Küçük Denizkızı Ponyo \n",
      "Türü: ['Animasyon', 'Macera', 'Aile'] \n",
      "Oyuncular: [None, None, None]\n",
      "Yonetmenleri: ['Hayao Miyazaki'] \n",
      "Özeti: 6 yaş ve üzeri çocuklar için uygun film\n",
      "\n",
      "\n",
      "\n",
      "İnsani, insani olduğu kadar çevreci, sımsıcak bir animasyon olan Küçük Denizkızı Ponyo, bu sanatın büyü...\n",
      "\n",
      "- - - - - - - - - - - - - - - - - - - - \n",
      "\n",
      "4) Film adı: Ejderhanı Nasıl Eğitirsin 2 \n",
      "Türü: ['Animasyon', 'Macera', 'Aile'] \n",
      "Oyuncular: [None, None, None]\n",
      "Yonetmenleri: ['Dean DeBlois'] \n",
      "Özeti: Çocuk filmi \n",
      "\n",
      "\n",
      "Berk Adası'nda ejderha ve vikinglerin birleşmesinin üstünden beş yıl geçmiştir ve adada tam bir barış ve huzur atmosferi hakimdir. A...\n",
      "\n",
      "- - - - - - - - - - - - - - - - - - - - \n",
      "\n",
      "5) Film adı: Robotlar \n",
      "Türü: ['Animasyon', 'Macera', 'Aile'] \n",
      "Oyuncular: [None, None, None]\n",
      "Yonetmenleri: ['Chris Wedge', 'Carlos Saldanha'] \n",
      "Özeti: Animasyon filmlerinin ilgi gördüğü bir dönemde Buz Çağı’nın yaratıcısı, bu defa robotların hüküm sürdüğü bir dünyaya ayak basıyor. Rodney, küçük şehir...\n",
      "\n",
      "- - - - - - - - - - - - - - - - - - - - \n",
      "\n",
      "6) Film adı: Doğal Kahramanlar \n",
      "Türü: ['Macera', 'Animasyon', 'Aile'] \n",
      "Oyuncular: [None, None, None]\n",
      "Yonetmenleri: ['Chris Wedge'] \n",
      "Özeti: Genç bir kız bir anda kendisini iyi ve kötü güçlerin kıyasıya savaştığı bir ormana sürüklenmiş olarak bulur. Kendinin bambaşka bir dünyanın içinde bul...\n",
      "\n",
      "- - - - - - - - - - - - - - - - - - - - \n",
      "\n",
      "7) Film adı: Robinson Crusoe \n",
      "Türü: ['Animasyon', 'Aile', 'Macera'] \n",
      "Oyuncular: [None, None, None]\n",
      "Yonetmenleri: ['Vincent Kesteloot'] \n",
      "Özeti: Daniel Defoe’nun hiç eskimeyen klasiği, ilk kez üç boyutlu bir animasyon türünde sinemaya uyarlandı. Kahraman kaşif Robinson Crusoe, gemisi batınca te...\n",
      "\n",
      "- - - - - - - - - - - - - - - - - - - - \n",
      "\n",
      "8) Film adı: Altın Gol \n",
      "Türü: ['Macera', 'Animasyon', 'Aile'] \n",
      "Oyuncular: [None, None, None]\n",
      "Yonetmenleri: ['Juan José Campanella'] \n",
      "Özeti: Amadeo, oldukça utangaç fakat yetenekli bir çocuktur. Futbol oynadığı takım, zaferlerle dolu bir dönem geçirdikten sonra yenilgi üstüne yenilgi almış,...\n",
      "\n",
      "- - - - - - - - - - - - - - - - - - - - \n",
      "\n",
      "9) Film adı: Kutup Ekspresi \n",
      "Türü: ['Animasyon', 'Macera', 'Aile'] \n",
      "Oyuncular: ['Tom Hanks', 'Eddie Deezen', 'Nona Gaye']\n",
      "Yonetmenleri: ['Robert Zemeckis'] \n",
      "Özeti: Çocuk filmi \n",
      "\n",
      "\n",
      "Geçirdiği Noel'ler nedeniyle artık Noel babaya olan bir inancı kalmayan küçük bir erkek çocuğu, oldukça tuhaf bir trene atlayarak hi...\n",
      "\n",
      "- - - - - - - - - - - - - - - - - - - - \n",
      "\n",
      "10) Film adı: Korsanlar! \n",
      "Türü: ['Animasyon', 'Macera', 'Aile'] \n",
      "Oyuncular: [None, None, None]\n",
      "Yonetmenleri: ['Peter Lord'] \n",
      "Özeti: Hugh Grant'tan korsan olur mu? Büyük ihtimalle olmaz. Ama eğer bir animasyon karakterine sesiyle hayat verecekse, işte o zaman pekala olur! \"Korsanlar...\n",
      "\n",
      "- - - - - - - - - - - - - - - - - - - - \n",
      "\n",
      "11) Film adı: Ainbo \n",
      "Türü: ['Animasyon', 'Macera', 'Aile'] \n",
      "Oyuncular: [None, None, None]\n",
      "Yonetmenleri: ['Richard Claus', 'Jose Zelada'] \n",
      "Özeti: Ainbo, tehlike altında olan yurdunu ve insanları kurtarmaya çalışan ormanın kalbinde doğup büyümüş bir kızın hikayesini konu ediyor. Amazon ormanının ...\n",
      "\n",
      "- - - - - - - - - - - - - - - - - - - - \n",
      "\n",
      "12) Film adı: Snoopy ve Charlie Brown Peanuts Filmi \n",
      "Türü: ['Animasyon', 'Aile', 'Macera'] \n",
      "Oyuncular: [None, None, None]\n",
      "Yonetmenleri: ['Steve Martino'] \n",
      "Özeti: Çizgi karikatürlerin ve çizgi filmlerin en eğlencelisi Snoopy uzun bir aradan sonra beyazperdeye üç boyutlu animasyon formatında geri dönüyor.Charlie ...\n",
      "\n",
      "- - - - - - - - - - - - - - - - - - - - \n",
      "\n",
      "13) Film adı: Atlantis: Kayıp İmparatorluk \n",
      "Türü: ['Animasyon', 'Macera', 'Aile'] \n",
      "Oyuncular: [None, None, None]\n",
      "Yonetmenleri: ['Kirk Wise', 'Gary Trousdale'] \n",
      "Özeti: Thaddeus Thatch, herkes tarafından tanınan, ünlü bir maceracıdır. Onun torunu olan Milo Thatch ise, dedesinin serüvenlerini dinleyerek büyümüş olan ba...\n",
      "\n",
      "- - - - - - - - - - - - - - - - - - - - \n",
      "\n",
      "14) Film adı: Asteriks: Sihirli İksirin Sırrı \n",
      "Türü: ['Animasyon', 'Aile', 'Macera'] \n",
      "Oyuncular: [None, None, None]\n",
      "Yonetmenleri: ['Louis Clichy', 'Alexandre Astier'] \n",
      "Özeti: Asteriks: Sihirli İksirin Sırrı, iksirin formülünü paylaşacağı büyücüyü seçmek için Asterix ve Oburix ile birlikte macera dolu bir yolculuğa çıkan Büy...\n",
      "\n",
      "- - - - - - - - - - - - - - - - - - - - \n",
      "\n",
      "15) Film adı: Dinozor \n",
      "Türü: ['Animasyon', 'Macera', 'Aile'] \n",
      "Oyuncular: [None, None, None]\n",
      "Yonetmenleri: ['Eric Leighton', 'Ralph Zondag'] \n",
      "Özeti: İnsanlık tarihinden neredeyse 65 milyon yıl öncesi... Dinazorların hüküm sürdüğü dünya, dönmeye devam etmektedir. Aladar isimli bir dinazor, ailesinin...\n",
      "\n",
      "- - - - - - - - - - - - - - - - - - - - \n",
      "\n",
      "16) Film adı: Dinozor \n",
      "Türü: ['Animasyon', 'Macera', 'Aile'] \n",
      "Oyuncular: [None, None, None]\n",
      "Yonetmenleri: ['Eric Leighton', 'Ralph Zondag'] \n",
      "Özeti: İnsanlık tarihinden neredeyse 65 milyon yıl öncesi... Dinazorların hüküm sürdüğü dünya, dönmeye devam etmektedir. Aladar isimli bir dinazor, ailesinin...\n",
      "\n",
      "- - - - - - - - - - - - - - - - - - - - \n",
      "\n",
      "17) Film adı: Rio \n",
      "Türü: ['Animasyon', 'Macera', 'Aile'] \n",
      "Oyuncular: [None, None, None]\n",
      "Yonetmenleri: ['Carlos Saldanha'] \n",
      "Özeti: Çocuk filmi \n",
      "\n",
      "\n",
      "Hem eleştirmenler hem de seyirciler tarafından beğenilen 'Buz Devri' animasyon serisinin yaratıcılarının elinden çıkan 'Rio', yepyen...\n",
      "\n",
      "- - - - - - - - - - - - - - - - - - - - \n",
      "\n",
      "18) Film adı: Özgür Ruh \n",
      "Türü: ['Animasyon', 'Macera', 'Aile'] \n",
      "Oyuncular: [None, None, None]\n",
      "Yonetmenleri: ['Kelly Asbury', 'Lorna Cook'] \n",
      "Özeti: Spirit, ismiyle müsemma, özgür ruhunun peşinden giden vahşi bir attır. Vahşi Batı'ya doğru hür bir yolculuğa çıkmıştır. Burada Rain isimli, güzeller g...\n",
      "\n",
      "- - - - - - - - - - - - - - - - - - - - \n",
      "\n",
      "19) Film adı: Orman Çocuğu 2 \n",
      "Türü: ['Animasyon', 'Macera', 'Aile'] \n",
      "Oyuncular: [None, None, None]\n",
      "Yonetmenleri: ['Steve Trenbirth'] \n",
      "Özeti: Disney’in 1967 klasiği Man Cub Mowgli’si, animasyon filmi ile geri dönüyor. Mowgli, şimdi bir orman kasabasında, kendisini evlat edinen bir aile birli...\n",
      "\n",
      "- - - - - - - - - - - - - - - - - - - - \n",
      "\n",
      "20) Film adı: Efsane Beşli \n",
      "Türü: ['Animasyon', 'Macera', 'Aile'] \n",
      "Oyuncular: [None, None, None]\n",
      "Yonetmenleri: ['Peter Ramsey'] \n",
      "Özeti: 'Kara' adıyla tanınan kötü bir ruh insanlığın umutlarını ve inandığı değerleri yok ederek dünyaya hakim olmak için harekete geçince, Kuzey (Noel Baba)...\n",
      "\n",
      "- - - - - - - - - - - - - - - - - - - - \n",
      "\n"
     ]
    }
   ],
   "source": [
    "most_similar_films(\"Kirpi Sonic 2\", 20)"
   ]
  },
  {
   "cell_type": "code",
   "execution_count": null,
   "metadata": {},
   "outputs": [],
   "source": []
  }
 ],
 "metadata": {
  "kernelspec": {
   "display_name": "Python 3.10.0 64-bit",
   "language": "python",
   "name": "python3"
  },
  "language_info": {
   "codemirror_mode": {
    "name": "ipython",
    "version": 3
   },
   "file_extension": ".py",
   "mimetype": "text/x-python",
   "name": "python",
   "nbconvert_exporter": "python",
   "pygments_lexer": "ipython3",
   "version": "3.10.0"
  },
  "orig_nbformat": 4,
  "vscode": {
   "interpreter": {
    "hash": "39a38127645f6cb99e4c483b7e8a3b384eed237b9ccf03111fa41cb90a7aeb1e"
   }
  }
 },
 "nbformat": 4,
 "nbformat_minor": 2
}
